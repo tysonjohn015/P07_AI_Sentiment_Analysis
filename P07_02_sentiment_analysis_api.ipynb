{
  "nbformat": 4,
  "nbformat_minor": 0,
  "metadata": {
    "colab": {
      "name": "P07_02_sentiment_analysis_api.ipynb",
      "provenance": [],
      "collapsed_sections": [],
      "machine_shape": "hm"
    },
    "kernelspec": {
      "display_name": "Python 3",
      "language": "python",
      "name": "python3"
    },
    "language_info": {
      "codemirror_mode": {
        "name": "ipython",
        "version": 3
      },
      "file_extension": ".py",
      "mimetype": "text/x-python",
      "name": "python",
      "nbconvert_exporter": "python",
      "pygments_lexer": "ipython3",
      "version": "3.8.5"
    }
  },
  "cells": [
    {
      "cell_type": "markdown",
      "metadata": {
        "id": "DHcwm60yYD_v"
      },
      "source": [
        "![air-paradis](https://drive.google.com/uc?id=1T26mpOAUvJP700W4m8bjfYCLmDYVcyJL)"
      ]
    },
    {
      "cell_type": "markdown",
      "metadata": {
        "id": "2Yw-JQJcB42U"
      },
      "source": [
        "# <font color=red><center>**AIR PARADIS**</center></font>"
      ]
    },
    {
      "cell_type": "markdown",
      "metadata": {
        "id": "HAHnoT_dB6I6"
      },
      "source": [
        "**Air Paradis** is an airline company that wants to use AI (*Artificial Intelligence*) to **detect Bad Buzz associated with its brand** in online public tweets.\n",
        "\n",
        "**As AI engineer for Marketing Intelligence Consulting**, we will dive into **NLP** (*Natural Language Processing*) techniques to serve Air Paradis' purpose.\n",
        "\n",
        "Indeed, NLP allows a machine to **understand and process human language**. It will help us to solve this **text classification goal** and **detect sentiment** (positive or negative) from these tweets.\n",
        "\n",
        "We will deploy our best **DETECT SENTIMENT solution** through <font color=salmon>**Microsoft Azure Machine Learning plateform**</font> (***MS Azure ML***).\n",
        "\n",
        "<br>\n",
        "\n",
        "Therefore, we will structure the project as follows:\n",
        "\n",
        "<br>\n",
        "\n",
        "| **Services / Tools** | **Objective** | **Available notebook** |\n",
        "| :-- | :-- | :-- |\n",
        "| **Google Colab and Python libraries** | Build quality of data by pre-processing the tweets text | Notebook N°1 |\n",
        "| **Google Colab / MS Azure Cognitive Services API** | Use Text Analytics > Sentiment API | **<font color=green>Notebook N°2</font>** |\n",
        "| **Python Script / MS Azure ML Studio > Designer** | Use \"Drag-and-Drop\" pipeline with no code in Azure ML Studio| Notebook N°3 |\n",
        "| **Tensorflow-Keras / Google Colab PRO with GPU/TPU** | Train and evaluate advanced models | Notebook N°4 |\n",
        "| **MS Azure ML Cloud > Models** | Deploy the best solution in MS Azure WebService | Notebook N°5 |\n",
        "\n",
        "<br>\n",
        "\n",
        "This notebook is dedicated to 2nd task : detect sentiment throuhg MS Azure Cognitive Services, and its readily available **Text Analytics / Sentiment API**."
      ]
    },
    {
      "cell_type": "markdown",
      "metadata": {
        "id": "PKNyrF3Earzl"
      },
      "source": [
        "# <font color=brown><center>**NOTEBOOK 2<br>SENTIMENT DETECTION<br>AZURE COGNITIVE SERVICES**</center></font>"
      ]
    },
    {
      "cell_type": "markdown",
      "metadata": {
        "id": "S4aS4Oi_nOWh"
      },
      "source": [
        "![azure-cognitive-service](https://drive.google.com/uc?id=1HkJOrsXUSR4S6tBkYFSMdzg0002-OKnM)"
      ]
    },
    {
      "cell_type": "markdown",
      "metadata": {
        "id": "ZbyajgtaDPrX"
      },
      "source": [
        "# <font color=salmon>PART 1 - AZURE TEXT ANALYTICS: TERMS OF USE</font>"
      ]
    },
    {
      "cell_type": "markdown",
      "metadata": {
        "id": "Yen3iYLg11Gd"
      },
      "source": [
        "## <font color=green>P1.1 - Understand Azure</font>"
      ]
    },
    {
      "cell_type": "markdown",
      "metadata": {
        "id": "D7EtEx7kmdCX"
      },
      "source": [
        "<font color=green>**Azure**</font> is a **cloud computing platform** with an ever-expanding set of services to help you build solutions to meet your business goals. \n",
        "\n",
        "**Azure services** range from simple web services for hosting business presence in the cloud to running fully virtualized computers to run custom software solutions.\n",
        "\n",
        "Azure provides a wealth of cloud-based services like remote storage, database hosting, and centralized account management. \n",
        "\n",
        "Azure also offers **new capabilities like AI** and Internet of Things (IoT)."
      ]
    },
    {
      "cell_type": "markdown",
      "metadata": {
        "id": "JUKVs1oW2ARi"
      },
      "source": [
        "## <font color=green>P1.2 - Understand Azure Cognitive Services</font>"
      ]
    },
    {
      "cell_type": "markdown",
      "metadata": {
        "id": "VcyP8D_ZnVEI"
      },
      "source": [
        "<font color=green>**Azure Cognitive Services**</font> are a collection of machine learning and AI algorithms in the cloud for your development projects. They play an important role in **developing AI infused applications**.\n",
        "\n",
        "Indeed, all it takes is an **API call** to embed the **ability to see, hear, speak, search, understand, and accelerate decision-making** into Apps, thanks to a comprehensive family of AI services and cognitive APIs.\n",
        "\n",
        "Using the various services (Text Analytics, Speech, Computer Vision etc.), requires, at a minimum, an **access key and a service endpoint URL**. The information is required for authorization of applications that will be accessing these services."
      ]
    },
    {
      "cell_type": "markdown",
      "metadata": {
        "id": "ASoBnyaq2HlK"
      },
      "source": [
        "## <font color=green>P1.3 - Understand Azure Text Analytics > Sentiment</font>"
      ]
    },
    {
      "cell_type": "markdown",
      "metadata": {
        "id": "W49VwRMBBJ4w"
      },
      "source": [
        "### <font color=blue>P1.3.1 - Understand the purpose</font>"
      ]
    },
    {
      "cell_type": "markdown",
      "metadata": {
        "id": "13WwykfrA3x7"
      },
      "source": [
        "The **Text Analytics API** is a cloud-based service that provides **Natural Language Processing (NLP) features** for text mining and text analysis, including: sentiment analysis, opinion mining, key phrase extraction, language detection, and named entity recognition.\n",
        "\n",
        "**Sentiment Analysis** is used to find out what people think of our brand or topic, by mining the text for clues about positive or negative sentiment.\n",
        "\n",
        "The feature provides different **labels**: positive, negative, neutral (sometimes, mixed), based on the highest confidence score found by the service at a sentence and/or document-level. It returns also confidence scores (between 0 and 1) for each document and sentences within it for positive, negative or neutral sentiment."
      ]
    },
    {
      "cell_type": "markdown",
      "metadata": {
        "id": "sxVS_oi7BUKk"
      },
      "source": [
        "### <font color=blue>P1.3.2 - Understand the general terms of use (GTU)</font>"
      ]
    },
    {
      "cell_type": "markdown",
      "metadata": {
        "id": "l8s6ULHBEabF"
      },
      "source": [
        "MS Azure Cognitive Services usually request a specific **document format** for the use its services. \n",
        "\n",
        "For *Text Analytics > Sentiment* API, **documents should be submitted in a JSON object** as described below:\n",
        "- <code>**id**</code>: Data type is string; result is generated for each ID in the request;\n",
        "- <code>**language**</code>: 2-character code; here, per default, we put *'en'* for all rows;\n",
        "- <code>**text**</code>: unstructured raw text also called *document*, with a maximum size of **5,120 characters**; <code>*invalid request error*</code> will be returned if a document exceeds the maximum size.\n",
        "\n",
        "**NOTE**<br>\n",
        "We should also keep in mind that each processed document counts as a transaction.<br>The maximum number of documents that can be sent in a single request depend on the API version and feature.<br>Current API version is v3: the document limit for Sentiment Analysis is **10**; exceeding the limits will generate an HTTP 400 error code.\n",
        "\n",
        "For further information, documentation can be found [here](https://docs.microsoft.com/en-us/azure/cognitive-services/text-analytics/concepts/data-limits?tabs=version-3)"
      ]
    },
    {
      "cell_type": "markdown",
      "metadata": {
        "id": "85CjHl47gm9z"
      },
      "source": [
        "![.](https://drive.google.com/uc?id=1gDzc9sjicNHTYZvD6_fY3bx5w_HgJxoA)"
      ]
    },
    {
      "cell_type": "markdown",
      "metadata": {
        "id": "9xpW6QsUhxuW"
      },
      "source": [
        "# <font color=salmon>PART 2 - PREPARE DATASET AND CREDENTIALS</font>"
      ]
    },
    {
      "cell_type": "markdown",
      "metadata": {
        "id": "TxeESTByoDxB"
      },
      "source": [
        "Before we can use the service, we need to setup all the work environment:\n",
        "- Install Azure Machine Learning and AI Text Analytics via Azure ML SDK for Python;\n",
        "- Load the API credentials (subscription key and endpoint) we got when we have created the resource on Azure Portal;\n",
        "- Create the sample of the dataset we will use (here, we will only take 500 rows per sentiment - positive and negative);\n",
        "- Create a function to call the service."
      ]
    },
    {
      "cell_type": "markdown",
      "metadata": {
        "id": "qUel_eeji0k0"
      },
      "source": [
        "## <font color=green>P2.1 - Load libraries</font>"
      ]
    },
    {
      "cell_type": "code",
      "metadata": {
        "id": "3N7TMufriIXP"
      },
      "source": [
        "from IPython.display import clear_output\n",
        "\n",
        "# Install library\n",
        "!pip install azureml-core\n",
        "!pip install azure-ai-textanalytics\n",
        "\n",
        "clear_output()"
      ],
      "execution_count": null,
      "outputs": []
    },
    {
      "cell_type": "code",
      "metadata": {
        "colab": {
          "base_uri": "https://localhost:8080/"
        },
        "id": "6cqTint55RW0",
        "outputId": "85bbf34b-9951-41b9-f35f-67889a525b2e"
      },
      "source": [
        "from google.colab import drive\n",
        "drive._mount('/content/drive')"
      ],
      "execution_count": null,
      "outputs": [
        {
          "output_type": "stream",
          "name": "stdout",
          "text": [
            "Mounted at /content/drive\n"
          ]
        }
      ]
    },
    {
      "cell_type": "code",
      "metadata": {
        "id": "Adc9_WbeDW7h"
      },
      "source": [
        "# Import libraries\n",
        "import pandas as pd\n",
        "import numpy as np\n",
        "from pathlib import Path\n",
        "import json\n",
        "from time import time\n",
        "\n",
        "from sklearn.metrics import roc_curve, auc, accuracy_score\n",
        "from sklearn.metrics import classification_report\n",
        "\n",
        "import matplotlib.pyplot as plt\n",
        "import seaborn as sns\n",
        "%matplotlib inline\n",
        "\n",
        "# Set environment and tools configuration\n",
        "src_folder = Path('/content/drive/MyDrive/OC_IA/P07')\n",
        "pd.set_option(\"display.max_colwidth\", 200)"
      ],
      "execution_count": null,
      "outputs": []
    },
    {
      "cell_type": "markdown",
      "metadata": {
        "id": "4HwNMErMHsIL"
      },
      "source": [
        "## <font color=green>P2.2 - Create sample dataframe</font>"
      ]
    },
    {
      "cell_type": "code",
      "metadata": {
        "colab": {
          "base_uri": "https://localhost:8080/",
          "height": 397
        },
        "id": "whC9bM5lJOfA",
        "outputId": "c7c6620e-bfe8-4ddd-cb3c-aad5cd1f24ec"
      },
      "source": [
        "# Import pre-processed data\n",
        "df = pd.read_csv(src_folder / 'p7_01b_final_df.csv')\n",
        "\n",
        "# Drop useless features\n",
        "df = df.drop(columns=['user', 'clean_w_count', 'noStop_tweet', 'lemma_w_count', 'stem_w_count'])\n",
        "\n",
        "# Display shape and 5 first rows\n",
        "print(df.shape)\n",
        "df.head()"
      ],
      "execution_count": null,
      "outputs": [
        {
          "output_type": "stream",
          "name": "stdout",
          "text": [
            "(1559839, 5)\n"
          ]
        },
        {
          "output_type": "execute_result",
          "data": {
            "text/html": [
              "<div>\n",
              "<style scoped>\n",
              "    .dataframe tbody tr th:only-of-type {\n",
              "        vertical-align: middle;\n",
              "    }\n",
              "\n",
              "    .dataframe tbody tr th {\n",
              "        vertical-align: top;\n",
              "    }\n",
              "\n",
              "    .dataframe thead th {\n",
              "        text-align: right;\n",
              "    }\n",
              "</style>\n",
              "<table border=\"1\" class=\"dataframe\">\n",
              "  <thead>\n",
              "    <tr style=\"text-align: right;\">\n",
              "      <th></th>\n",
              "      <th>sentiment</th>\n",
              "      <th>tweet</th>\n",
              "      <th>clean_tweet</th>\n",
              "      <th>lemma_tweet</th>\n",
              "      <th>stem_tweet</th>\n",
              "    </tr>\n",
              "  </thead>\n",
              "  <tbody>\n",
              "    <tr>\n",
              "      <th>0</th>\n",
              "      <td>0</td>\n",
              "      <td>@switchfoot http://twitpic.com/2y1zl - Awww, that's a bummer.  You shoulda got David Carr of Third Day to do it. ;D</td>\n",
              "      <td>user url w that is a bummer you should got david carr of third day to do it d</td>\n",
              "      <td>user url bummer got david carr third day</td>\n",
              "      <td>user url bummer got david carr third day</td>\n",
              "    </tr>\n",
              "    <tr>\n",
              "      <th>1</th>\n",
              "      <td>0</td>\n",
              "      <td>is upset that he can't update his Facebook by texting it... and might cry as a result  School today also. Blah!</td>\n",
              "      <td>is upset that he cannot update his facebook by texting it and might cry as a result school today also</td>\n",
              "      <td>upset cannot update facebook texting cry result school today also</td>\n",
              "      <td>upset cannot updat facebook text cri result school today also</td>\n",
              "    </tr>\n",
              "    <tr>\n",
              "      <th>2</th>\n",
              "      <td>0</td>\n",
              "      <td>@Kenichan I dived many times for the ball. Managed to save 50%  The rest go out of bounds</td>\n",
              "      <td>user i dived many times for the ball managed to save the rest go out of bounds</td>\n",
              "      <td>user dived many time ball managed save rest go bound</td>\n",
              "      <td>user dive mani time ball manag save rest go bound</td>\n",
              "    </tr>\n",
              "    <tr>\n",
              "      <th>3</th>\n",
              "      <td>0</td>\n",
              "      <td>my whole body feels itchy and like its on fire</td>\n",
              "      <td>my whole body feels itchy and like it is on fire</td>\n",
              "      <td>whole body feel itchy like fire</td>\n",
              "      <td>whole bodi feel itchi like fire</td>\n",
              "    </tr>\n",
              "    <tr>\n",
              "      <th>4</th>\n",
              "      <td>0</td>\n",
              "      <td>@nationwideclass no, it's not behaving at all. i'm mad. why am i here? because I can't see you all over there.</td>\n",
              "      <td>user no it is not behaving at all i am mad why am i here because i cannot see you all over there</td>\n",
              "      <td>user no not behaving mad cannot see</td>\n",
              "      <td>user no not behav mad cannot see</td>\n",
              "    </tr>\n",
              "  </tbody>\n",
              "</table>\n",
              "</div>"
            ],
            "text/plain": [
              "   sentiment  ...                                                     stem_tweet\n",
              "0          0  ...                       user url bummer got david carr third day\n",
              "1          0  ...  upset cannot updat facebook text cri result school today also\n",
              "2          0  ...              user dive mani time ball manag save rest go bound\n",
              "3          0  ...                                whole bodi feel itchi like fire\n",
              "4          0  ...                               user no not behav mad cannot see\n",
              "\n",
              "[5 rows x 5 columns]"
            ]
          },
          "metadata": {},
          "execution_count": 7
        }
      ]
    },
    {
      "cell_type": "code",
      "metadata": {
        "colab": {
          "base_uri": "https://localhost:8080/",
          "height": 467
        },
        "id": "XkqxDcWUHnJE",
        "outputId": "937c6b60-a470-4107-9338-3c3d48e22775"
      },
      "source": [
        "# Define the number of observation per classe (positive / negative)\n",
        "N_SENTIMENT = 800 #@param [\"800\", \"1000\", \"2500\"] {type:\"raw\"}\n",
        "\n",
        "# Create a sample of DF\n",
        "sample_df = df.groupby('sentiment').apply(lambda x: x.sample(n=N_SENTIMENT,\n",
        "                                                             random_state=42))\n",
        "sample_df.reset_index(drop=True, inplace=True)\n",
        "\n",
        "# Re-order columns for clarity\n",
        "sample_df = sample_df[['tweet', 'clean_tweet', 'lemma_tweet', 'stem_tweet', 'sentiment']]\n",
        "sample_df = sample_df.rename(columns={'clean_tweet':'text_cl',\n",
        "                                      'lemma_tweet':'text_lm',\n",
        "                                      'stem_tweet':'text_sm'})\n",
        "\n",
        "# Display DF main info\n",
        "print('SAMPLE dimension: ', sample_df.shape)\n",
        "print('SENTIMENT distribution: \\n', sample_df.sentiment.value_counts())\n",
        "sample_df.head()"
      ],
      "execution_count": null,
      "outputs": [
        {
          "output_type": "stream",
          "name": "stdout",
          "text": [
            "SAMPLE dimension:  (1600, 5)\n",
            "SENTIMENT distribution: \n",
            " 1    800\n",
            "0    800\n",
            "Name: sentiment, dtype: int64\n"
          ]
        },
        {
          "output_type": "execute_result",
          "data": {
            "text/html": [
              "<div>\n",
              "<style scoped>\n",
              "    .dataframe tbody tr th:only-of-type {\n",
              "        vertical-align: middle;\n",
              "    }\n",
              "\n",
              "    .dataframe tbody tr th {\n",
              "        vertical-align: top;\n",
              "    }\n",
              "\n",
              "    .dataframe thead th {\n",
              "        text-align: right;\n",
              "    }\n",
              "</style>\n",
              "<table border=\"1\" class=\"dataframe\">\n",
              "  <thead>\n",
              "    <tr style=\"text-align: right;\">\n",
              "      <th></th>\n",
              "      <th>tweet</th>\n",
              "      <th>text_cl</th>\n",
              "      <th>text_lm</th>\n",
              "      <th>text_sm</th>\n",
              "      <th>sentiment</th>\n",
              "    </tr>\n",
              "  </thead>\n",
              "  <tbody>\n",
              "    <tr>\n",
              "      <th>0</th>\n",
              "      <td>@ROzyROckz haha no married here good guys come a dime a dozen these days</td>\n",
              "      <td>user no married here good guys come a dime a dozen these days</td>\n",
              "      <td>user no married good guy come dime dozen day</td>\n",
              "      <td>user no marri good guy come dime dozen day</td>\n",
              "      <td>0</td>\n",
              "    </tr>\n",
              "    <tr>\n",
              "      <th>1</th>\n",
              "      <td>watchin' news... so sad the ppl in my country do not care about that proplem in puno... ppl are dying</td>\n",
              "      <td>watchin news so sad the ppl in my country do not care about that proplem in puno ppl are dying</td>\n",
              "      <td>watchin news sad ppl country not care proplem puno ppl dying</td>\n",
              "      <td>watchin news sad ppl countri not care proplem puno ppl die</td>\n",
              "      <td>0</td>\n",
              "    </tr>\n",
              "    <tr>\n",
              "      <th>2</th>\n",
              "      <td>@paul_stewart &amp;amp; @holycowcreative i'd LOVE to go to this http://tinyurl.com/dfcbek, but i'll be out of town that week.</td>\n",
              "      <td>user user i would love to go to this url but i will be out of town that week</td>\n",
              "      <td>user user love go url town week</td>\n",
              "      <td>user user love go url town week</td>\n",
              "      <td>0</td>\n",
              "    </tr>\n",
              "    <tr>\n",
              "      <th>3</th>\n",
              "      <td>I wish I was good at making decisions</td>\n",
              "      <td>i wish i was good at making decisions</td>\n",
              "      <td>wish good making decision</td>\n",
              "      <td>wish good make decis</td>\n",
              "      <td>0</td>\n",
              "    </tr>\n",
              "    <tr>\n",
              "      <th>4</th>\n",
              "      <td>Got a new puppy today and am halfway iffy cuz of my baby pup I lost</td>\n",
              "      <td>got a new puppy today and am halfway iffy cuz of my baby pup i lost</td>\n",
              "      <td>got new puppy today halfway iffy cuz baby pup lost</td>\n",
              "      <td>got new puppi today halfway iffi cuz babi pup lost</td>\n",
              "      <td>0</td>\n",
              "    </tr>\n",
              "  </tbody>\n",
              "</table>\n",
              "</div>"
            ],
            "text/plain": [
              "                                                                                                                         tweet  ... sentiment\n",
              "0                                                    @ROzyROckz haha no married here good guys come a dime a dozen these days   ...         0\n",
              "1                       watchin' news... so sad the ppl in my country do not care about that proplem in puno... ppl are dying   ...         0\n",
              "2  @paul_stewart &amp; @holycowcreative i'd LOVE to go to this http://tinyurl.com/dfcbek, but i'll be out of town that week.    ...         0\n",
              "3                                                                                       I wish I was good at making decisions   ...         0\n",
              "4                                                         Got a new puppy today and am halfway iffy cuz of my baby pup I lost   ...         0\n",
              "\n",
              "[5 rows x 5 columns]"
            ]
          },
          "metadata": {},
          "execution_count": 9
        }
      ]
    },
    {
      "cell_type": "code",
      "metadata": {
        "id": "sdi-bnCMKHKG"
      },
      "source": [
        "# Save to csv file\n",
        "sample_df.to_csv(src_folder / 'p7_02_sample_df.csv', index=False)"
      ],
      "execution_count": null,
      "outputs": []
    },
    {
      "cell_type": "markdown",
      "metadata": {
        "id": "xXHgbVEtidCW"
      },
      "source": [
        "## <font color=green>P2.3 - Load API credentials</font>"
      ]
    },
    {
      "cell_type": "markdown",
      "metadata": {
        "id": "fPHX9GUYimxS"
      },
      "source": [
        "Here we create a function to instantiate the <code>**TextAnalyticsClient**</code> object with the **key** and the **endpoint** saved in JSON file."
      ]
    },
    {
      "cell_type": "code",
      "metadata": {
        "id": "HykfwqaEiHR9"
      },
      "source": [
        "from azure.core.credentials import AzureKeyCredential\n",
        "from azure.ai.textanalytics import TextAnalyticsClient\n",
        "\n",
        "# Import API credentials from JSON file\n",
        "with open(src_folder / 'p7_02_credentials.json') as creds:\n",
        "    credentials = json.load(creds)\n",
        "\n",
        "# Set API variables\n",
        "subscription_key = credentials['api_key']\n",
        "endpoint = credentials['endpoint']\n",
        "\n",
        "def authenticate_client():\n",
        "    my_credential = AzureKeyCredential(subscription_key)\n",
        "    text_analytics_client = TextAnalyticsClient(\n",
        "        endpoint=endpoint,\n",
        "        credential=my_credential)\n",
        "    return text_analytics_client\n",
        "\n",
        "# Create a new client\n",
        "client = authenticate_client()"
      ],
      "execution_count": null,
      "outputs": []
    },
    {
      "cell_type": "markdown",
      "metadata": {
        "id": "LpIvR1oUtu9y"
      },
      "source": [
        "## <font color=green>P2.4 - Create function to call the service</font>"
      ]
    },
    {
      "cell_type": "code",
      "metadata": {
        "id": "F7X9oAC8mFsj"
      },
      "source": [
        "# Function to process sentiment detection\n",
        "def sentiment_analysis(client, doc):\n",
        "    documents = [doc]\n",
        "    response = client.analyze_sentiment(documents=documents)[0]\n",
        "    for idx, sentence in enumerate(response.sentences):\n",
        "        return sentence.sentiment"
      ],
      "execution_count": null,
      "outputs": []
    },
    {
      "cell_type": "markdown",
      "metadata": {
        "id": "a6cfqfpupWmL"
      },
      "source": [
        "Now that we have prepared all the environment requirements, we will do the following study in parts 3, 4 and 5, respectively:\n",
        "\n",
        "\n",
        "1.   Test the service **with non-processed tweets**;\n",
        "2.   Test the service **with cleaned tweets**;\n",
        "3.   Test the service **lemmatized tweets (stopwords excluded)**;"
      ]
    },
    {
      "cell_type": "markdown",
      "metadata": {
        "id": "2FdcBFGWsqdO"
      },
      "source": [
        "# <font color=salmon>PART 3 - DETECT SENTIMENT WITH TWEETS WITHOUT PRE-PROCESSING</font>"
      ]
    },
    {
      "cell_type": "markdown",
      "metadata": {
        "id": "xFLHeX1cpA9I"
      },
      "source": [
        "In this part, we will try to use the service with the tweets **without any preprocessing**.\n",
        "\n",
        "Indeed, there is no mention anywhere that the API can or cannot take raw text in charge.\n",
        "\n",
        "The best way to know is to test !"
      ]
    },
    {
      "cell_type": "markdown",
      "metadata": {
        "id": "YrcaE5aTuGpZ"
      },
      "source": [
        "## <font color=green>P3.1 - Process sentiment detection</font>"
      ]
    },
    {
      "cell_type": "code",
      "metadata": {
        "colab": {
          "base_uri": "https://localhost:8080/",
          "height": 206
        },
        "id": "o0vmeGb_ImMW",
        "outputId": "f22f41c2-9dca-4030-916c-70d9198b712d"
      },
      "source": [
        "data = pd.DataFrame(columns=['text', 'label', 'prediction'])\n",
        "\n",
        "# Process prediction\n",
        "start = time()\n",
        "for index, row in sample_df.iterrows():\n",
        "    data = data.append({'text': row['tweet'],\n",
        "                        'label': row['sentiment'],\n",
        "                        'prediction': sentiment_analysis(client, row['tweet'])},\n",
        "                       ignore_index=True)\n",
        "pred_time = (time()-start)\n",
        "\n",
        "# Display 5 first rows\n",
        "data.head()"
      ],
      "execution_count": null,
      "outputs": [
        {
          "output_type": "execute_result",
          "data": {
            "text/html": [
              "<div>\n",
              "<style scoped>\n",
              "    .dataframe tbody tr th:only-of-type {\n",
              "        vertical-align: middle;\n",
              "    }\n",
              "\n",
              "    .dataframe tbody tr th {\n",
              "        vertical-align: top;\n",
              "    }\n",
              "\n",
              "    .dataframe thead th {\n",
              "        text-align: right;\n",
              "    }\n",
              "</style>\n",
              "<table border=\"1\" class=\"dataframe\">\n",
              "  <thead>\n",
              "    <tr style=\"text-align: right;\">\n",
              "      <th></th>\n",
              "      <th>text</th>\n",
              "      <th>label</th>\n",
              "      <th>prediction</th>\n",
              "    </tr>\n",
              "  </thead>\n",
              "  <tbody>\n",
              "    <tr>\n",
              "      <th>0</th>\n",
              "      <td>@JuztDevious damn, hey Duante..</td>\n",
              "      <td>0</td>\n",
              "      <td>negative</td>\n",
              "    </tr>\n",
              "    <tr>\n",
              "      <th>1</th>\n",
              "      <td>Why do I feel sleepy waking up early in the #morning?</td>\n",
              "      <td>0</td>\n",
              "      <td>neutral</td>\n",
              "    </tr>\n",
              "    <tr>\n",
              "      <th>2</th>\n",
              "      <td>so jealous of @kaitfoley09 , she is hanging out with the pens players at the bars and I am in Warren Ohio.... lameeeee</td>\n",
              "      <td>0</td>\n",
              "      <td>negative</td>\n",
              "    </tr>\n",
              "    <tr>\n",
              "      <th>3</th>\n",
              "      <td>@nerearoldan  i knowww tomorrow nobody can go</td>\n",
              "      <td>0</td>\n",
              "      <td>neutral</td>\n",
              "    </tr>\n",
              "    <tr>\n",
              "      <th>4</th>\n",
              "      <td>@SalioElSol08 omg... why did you post that  i loved that movie</td>\n",
              "      <td>0</td>\n",
              "      <td>positive</td>\n",
              "    </tr>\n",
              "  </tbody>\n",
              "</table>\n",
              "</div>"
            ],
            "text/plain": [
              "                                                                                                                      text  ... prediction\n",
              "0                                                                                         @JuztDevious damn, hey Duante..   ...   negative\n",
              "1                                                                   Why do I feel sleepy waking up early in the #morning?   ...    neutral\n",
              "2  so jealous of @kaitfoley09 , she is hanging out with the pens players at the bars and I am in Warren Ohio.... lameeeee   ...   negative\n",
              "3                                                                          @nerearoldan  i knowww tomorrow nobody can go    ...    neutral\n",
              "4                                                           @SalioElSol08 omg... why did you post that  i loved that movie  ...   positive\n",
              "\n",
              "[5 rows x 3 columns]"
            ]
          },
          "metadata": {},
          "execution_count": 10
        }
      ]
    },
    {
      "cell_type": "code",
      "metadata": {
        "id": "WzogiysJuYN4"
      },
      "source": [
        "# Save to CSV file\n",
        "data.to_csv(src_folder / 'p7_02_api_original_tweet.csv', index=False)"
      ],
      "execution_count": null,
      "outputs": []
    },
    {
      "cell_type": "markdown",
      "metadata": {
        "id": "m3FQ5GUbueyC"
      },
      "source": [
        "## <font color=green>P3.2 - Exclude neutral predictions</font>"
      ]
    },
    {
      "cell_type": "code",
      "metadata": {
        "colab": {
          "base_uri": "https://localhost:8080/",
          "height": 365
        },
        "id": "pDBdbqhtufJr",
        "outputId": "5a586d0d-ecef-4131-d9cb-4166d842882d"
      },
      "source": [
        "# Filter on binary polarity (negative, positive)\n",
        "data = data[data.prediction != 'neutral']\n",
        "\n",
        "# Replace value of predictions columns\n",
        "data['prediction'] = data['prediction'].replace(['negative', 'positive'],[0,1])\n",
        "\n",
        "print('Nb rows: ', len(data))\n",
        "print('Proportion vs Total sample: {}%'.format(len(data)/len(sample_df)*100))\n",
        "\n",
        "# Display 5 first rows\n",
        "data.head()"
      ],
      "execution_count": null,
      "outputs": [
        {
          "output_type": "stream",
          "name": "stdout",
          "text": [
            "Nb rows:  978\n",
            "Proportion vs Total sample: 61.12499999999999%\n"
          ]
        },
        {
          "output_type": "stream",
          "name": "stderr",
          "text": [
            "/usr/local/lib/python3.7/dist-packages/ipykernel_launcher.py:5: SettingWithCopyWarning: \n",
            "A value is trying to be set on a copy of a slice from a DataFrame.\n",
            "Try using .loc[row_indexer,col_indexer] = value instead\n",
            "\n",
            "See the caveats in the documentation: https://pandas.pydata.org/pandas-docs/stable/user_guide/indexing.html#returning-a-view-versus-a-copy\n",
            "  \"\"\"\n"
          ]
        },
        {
          "output_type": "execute_result",
          "data": {
            "text/html": [
              "<div>\n",
              "<style scoped>\n",
              "    .dataframe tbody tr th:only-of-type {\n",
              "        vertical-align: middle;\n",
              "    }\n",
              "\n",
              "    .dataframe tbody tr th {\n",
              "        vertical-align: top;\n",
              "    }\n",
              "\n",
              "    .dataframe thead th {\n",
              "        text-align: right;\n",
              "    }\n",
              "</style>\n",
              "<table border=\"1\" class=\"dataframe\">\n",
              "  <thead>\n",
              "    <tr style=\"text-align: right;\">\n",
              "      <th></th>\n",
              "      <th>text</th>\n",
              "      <th>label</th>\n",
              "      <th>prediction</th>\n",
              "    </tr>\n",
              "  </thead>\n",
              "  <tbody>\n",
              "    <tr>\n",
              "      <th>0</th>\n",
              "      <td>@JuztDevious damn, hey Duante..</td>\n",
              "      <td>0</td>\n",
              "      <td>0</td>\n",
              "    </tr>\n",
              "    <tr>\n",
              "      <th>2</th>\n",
              "      <td>so jealous of @kaitfoley09 , she is hanging out with the pens players at the bars and I am in Warren Ohio.... lameeeee</td>\n",
              "      <td>0</td>\n",
              "      <td>0</td>\n",
              "    </tr>\n",
              "    <tr>\n",
              "      <th>4</th>\n",
              "      <td>@SalioElSol08 omg... why did you post that  i loved that movie</td>\n",
              "      <td>0</td>\n",
              "      <td>1</td>\n",
              "    </tr>\n",
              "    <tr>\n",
              "      <th>5</th>\n",
              "      <td>@Dili I know  how rude and immature</td>\n",
              "      <td>0</td>\n",
              "      <td>0</td>\n",
              "    </tr>\n",
              "    <tr>\n",
              "      <th>6</th>\n",
              "      <td>Trying to sleep but cant  gonna be soo tired tomorrow at school i'll keep on yawning</td>\n",
              "      <td>0</td>\n",
              "      <td>0</td>\n",
              "    </tr>\n",
              "  </tbody>\n",
              "</table>\n",
              "</div>"
            ],
            "text/plain": [
              "                                                                                                                      text  ... prediction\n",
              "0                                                                                         @JuztDevious damn, hey Duante..   ...          0\n",
              "2  so jealous of @kaitfoley09 , she is hanging out with the pens players at the bars and I am in Warren Ohio.... lameeeee   ...          0\n",
              "4                                                           @SalioElSol08 omg... why did you post that  i loved that movie  ...          1\n",
              "5                                                                                      @Dili I know  how rude and immature  ...          0\n",
              "6                                     Trying to sleep but cant  gonna be soo tired tomorrow at school i'll keep on yawning  ...          0\n",
              "\n",
              "[5 rows x 3 columns]"
            ]
          },
          "metadata": {},
          "execution_count": 12
        }
      ]
    },
    {
      "cell_type": "markdown",
      "metadata": {
        "id": "MPnnIUzhu04Y"
      },
      "source": [
        "## <font color=green>P3.3 - Evaluate predictions</font>"
      ]
    },
    {
      "cell_type": "code",
      "metadata": {
        "colab": {
          "base_uri": "https://localhost:8080/",
          "height": 81
        },
        "id": "3-z0FaXhu1Yo",
        "outputId": "10360f26-82d8-46ec-be63-df0ca6956957"
      },
      "source": [
        "y_test = data.label.astype(int)\n",
        "y_pred = data.prediction\n",
        "\n",
        "# Create a list to store scores/results\n",
        "scores_model = []\n",
        "\n",
        "# auc\n",
        "fpr, tpr, thresholds = roc_curve(y_test, y_pred, pos_label=1)\n",
        "auc_score = auc(fpr, tpr)\n",
        "# accuracy: (tp + tn) / (tp + tn)\n",
        "acc = accuracy_score(y_test, y_pred)\n",
        "\n",
        "# Append scores/results\n",
        "scores_model.append({'Model': 'Original tweets',\n",
        "                     'Predict_time':'{:0.1f}'.format(pred_time),\n",
        "                     'AUC_Score':'{:0.3f}%'.format(auc_score*100),\n",
        "                     'Accuracy':'{:0.3f}%'.format(acc*100)})\n",
        "\n",
        "# Save in DF\n",
        "model_results = pd.DataFrame.from_records(scores_model)\n",
        "model_results"
      ],
      "execution_count": null,
      "outputs": [
        {
          "output_type": "execute_result",
          "data": {
            "text/html": [
              "<div>\n",
              "<style scoped>\n",
              "    .dataframe tbody tr th:only-of-type {\n",
              "        vertical-align: middle;\n",
              "    }\n",
              "\n",
              "    .dataframe tbody tr th {\n",
              "        vertical-align: top;\n",
              "    }\n",
              "\n",
              "    .dataframe thead th {\n",
              "        text-align: right;\n",
              "    }\n",
              "</style>\n",
              "<table border=\"1\" class=\"dataframe\">\n",
              "  <thead>\n",
              "    <tr style=\"text-align: right;\">\n",
              "      <th></th>\n",
              "      <th>Model</th>\n",
              "      <th>Predict_time</th>\n",
              "      <th>AUC_Score</th>\n",
              "      <th>Accuracy</th>\n",
              "    </tr>\n",
              "  </thead>\n",
              "  <tbody>\n",
              "    <tr>\n",
              "      <th>0</th>\n",
              "      <td>Original tweets</td>\n",
              "      <td>186.1</td>\n",
              "      <td>74.349%</td>\n",
              "      <td>74.335%</td>\n",
              "    </tr>\n",
              "  </tbody>\n",
              "</table>\n",
              "</div>"
            ],
            "text/plain": [
              "             Model Predict_time AUC_Score Accuracy\n",
              "0  Original tweets        186.1   74.349%  74.335%"
            ]
          },
          "metadata": {},
          "execution_count": 13
        }
      ]
    },
    {
      "cell_type": "code",
      "metadata": {
        "id": "_4tQhNKpvj28"
      },
      "source": [
        "# Save to CSV file\n",
        "model_results.to_csv(src_folder / 'p7_02_model_results.csv', index=False)"
      ],
      "execution_count": null,
      "outputs": []
    },
    {
      "cell_type": "markdown",
      "metadata": {
        "id": "W-Kae1ohvuvy"
      },
      "source": [
        "## <font color=green>P3.4 - Plot confusion matrix</font>"
      ]
    },
    {
      "cell_type": "code",
      "metadata": {
        "id": "GLlTsHZXvs51"
      },
      "source": [
        "# Create confusion matrix table\n",
        "# normalize='all', 'index' or 'columns'\n",
        "cm = pd.crosstab(index=y_test,\n",
        "                 columns=y_pred,\n",
        "                 values=y_test,\n",
        "                 aggfunc=lambda x:len(x),\n",
        "                 normalize='index').mul(100)"
      ],
      "execution_count": null,
      "outputs": []
    },
    {
      "cell_type": "code",
      "metadata": {
        "colab": {
          "base_uri": "https://localhost:8080/",
          "height": 525
        },
        "id": "4OnJWNVYvs52",
        "outputId": "d812a4fa-27d1-4152-d11f-e6f37237a11b"
      },
      "source": [
        "# Create classification report\n",
        "cr = classification_report(y_test, y_pred)\n",
        "print(cr)\n",
        "\n",
        "# Set variables\n",
        "title = 'Confusion matrix - Original tweets'\n",
        "\n",
        "# Plot the figure\n",
        "fig, ax0 = plt.subplots(1, 1, figsize=(5, 5))\n",
        "ax = sns.heatmap(cm, annot=True, fmt='.1f', cbar=False, cmap='Blues')\n",
        "for t in ax.texts: t.set_text(t.get_text() + \" %\")\n",
        "ax.xaxis.tick_top() # x axis on top\n",
        "ax.xaxis.set_label_position('top')\n",
        "plt.ylabel('True labels', fontweight='bold')\n",
        "plt.xlabel('Predicted labels', fontweight='bold')\n",
        "plt.title(title, fontsize=16, fontweight='bold')\n",
        "plt.tight_layout()\n",
        "plt.show()"
      ],
      "execution_count": null,
      "outputs": [
        {
          "output_type": "stream",
          "name": "stdout",
          "text": [
            "              precision    recall  f1-score   support\n",
            "\n",
            "           0       0.78      0.68      0.73       490\n",
            "           1       0.71      0.81      0.76       488\n",
            "\n",
            "    accuracy                           0.74       978\n",
            "   macro avg       0.75      0.74      0.74       978\n",
            "weighted avg       0.75      0.74      0.74       978\n",
            "\n"
          ]
        },
        {
          "output_type": "display_data",
          "data": {
            "image/png": "[encoded data removed]",
            "text/plain": [
              "<Figure size 360x360 with 1 Axes>"
            ]
          },
          "metadata": {
            "needs_background": "light"
          }
        }
      ]
    },
    {
      "cell_type": "markdown",
      "metadata": {
        "id": "8xge5rZos-e8"
      },
      "source": [
        "# <font color=salmon>PART 4 - DETECT SENTIMENT WITH CLEANED TWEETS</font>"
      ]
    },
    {
      "cell_type": "markdown",
      "metadata": {
        "id": "S4WLAhwRqS1R"
      },
      "source": [
        "In this part, we will use the **cleaned tweets**.\n",
        "\n",
        "As a remainder, cleaned tweets were pre-processed this way:\n",
        "- lowercasing of the text;\n",
        "- removal of tweet specificity (user mention, hashtag, escaped characters,...);\n",
        "- replacement of English word contraction;\n",
        "- removal of punctuations, numbers special characters."
      ]
    },
    {
      "cell_type": "markdown",
      "metadata": {
        "id": "INdZbDlPiBAU"
      },
      "source": [
        "## <font color=green>P4.1 - Process sentiment detection</font>"
      ]
    },
    {
      "cell_type": "code",
      "metadata": {
        "colab": {
          "base_uri": "https://localhost:8080/",
          "height": 206
        },
        "id": "1aRoO0JPt3rQ",
        "outputId": "2ea3931b-b166-4354-d7f8-f48622292d2b"
      },
      "source": [
        "data = pd.DataFrame(columns=['text', 'label', 'prediction'])\n",
        "\n",
        "# Process prediction\n",
        "start = time()\n",
        "for index, row in sample_df.iterrows():\n",
        "    data = data.append({'text': row['text_cl'],\n",
        "                        'label': row['sentiment'],\n",
        "                        'prediction': sentiment_analysis(client, row['text_cl'])},\n",
        "                       ignore_index=True)\n",
        "pred_time = (time()-start)\n",
        "\n",
        "# Display 5 first rows\n",
        "data.head()"
      ],
      "execution_count": null,
      "outputs": [
        {
          "output_type": "execute_result",
          "data": {
            "text/html": [
              "<div>\n",
              "<style scoped>\n",
              "    .dataframe tbody tr th:only-of-type {\n",
              "        vertical-align: middle;\n",
              "    }\n",
              "\n",
              "    .dataframe tbody tr th {\n",
              "        vertical-align: top;\n",
              "    }\n",
              "\n",
              "    .dataframe thead th {\n",
              "        text-align: right;\n",
              "    }\n",
              "</style>\n",
              "<table border=\"1\" class=\"dataframe\">\n",
              "  <thead>\n",
              "    <tr style=\"text-align: right;\">\n",
              "      <th></th>\n",
              "      <th>text</th>\n",
              "      <th>label</th>\n",
              "      <th>prediction</th>\n",
              "    </tr>\n",
              "  </thead>\n",
              "  <tbody>\n",
              "    <tr>\n",
              "      <th>0</th>\n",
              "      <td>user damn hey duante</td>\n",
              "      <td>0</td>\n",
              "      <td>negative</td>\n",
              "    </tr>\n",
              "    <tr>\n",
              "      <th>1</th>\n",
              "      <td>why do i feel sleepy waking up early in the hashtag</td>\n",
              "      <td>0</td>\n",
              "      <td>neutral</td>\n",
              "    </tr>\n",
              "    <tr>\n",
              "      <th>2</th>\n",
              "      <td>so jealous of user she is hanging out with the pens players at the bars and i am in warren ohio lamee</td>\n",
              "      <td>0</td>\n",
              "      <td>negative</td>\n",
              "    </tr>\n",
              "    <tr>\n",
              "      <th>3</th>\n",
              "      <td>user i kno tomorrow nobody can go</td>\n",
              "      <td>0</td>\n",
              "      <td>neutral</td>\n",
              "    </tr>\n",
              "    <tr>\n",
              "      <th>4</th>\n",
              "      <td>user god why did you post that i loved that movie</td>\n",
              "      <td>0</td>\n",
              "      <td>positive</td>\n",
              "    </tr>\n",
              "  </tbody>\n",
              "</table>\n",
              "</div>"
            ],
            "text/plain": [
              "                                                                                                    text  ... prediction\n",
              "0                                                                                   user damn hey duante  ...   negative\n",
              "1                                                    why do i feel sleepy waking up early in the hashtag  ...    neutral\n",
              "2  so jealous of user she is hanging out with the pens players at the bars and i am in warren ohio lamee  ...   negative\n",
              "3                                                                      user i kno tomorrow nobody can go  ...    neutral\n",
              "4                                                      user god why did you post that i loved that movie  ...   positive\n",
              "\n",
              "[5 rows x 3 columns]"
            ]
          },
          "metadata": {},
          "execution_count": 17
        }
      ]
    },
    {
      "cell_type": "code",
      "metadata": {
        "id": "etzxvqAcQ32D"
      },
      "source": [
        "# Save to CSV file\n",
        "data.to_csv(src_folder / 'p7_02_api_clean_tweet.csv', index=False)"
      ],
      "execution_count": null,
      "outputs": []
    },
    {
      "cell_type": "markdown",
      "metadata": {
        "id": "kNaz0AZnuoes"
      },
      "source": [
        "## <font color=green>P4.2 - Exclude neutral predictions</font>"
      ]
    },
    {
      "cell_type": "code",
      "metadata": {
        "colab": {
          "base_uri": "https://localhost:8080/",
          "height": 365
        },
        "id": "MBuTGY6vRrGM",
        "outputId": "41648c46-ced6-4415-b3c5-1a8d8e11674b"
      },
      "source": [
        "# Filter on binary polarity (negative, positive)\n",
        "data = data[data.prediction != 'neutral']\n",
        "\n",
        "# Replace value of predictions columns\n",
        "data['prediction'] = data['prediction'].replace(['negative', 'positive'],[0,1])\n",
        "\n",
        "print('Nb rows: ', len(data))\n",
        "print('Proportion vs Total sample: {}%'.format(len(data)/len(sample_df)*100))\n",
        "\n",
        "# Display 5 first rows\n",
        "data.head()"
      ],
      "execution_count": null,
      "outputs": [
        {
          "output_type": "stream",
          "name": "stdout",
          "text": [
            "Nb rows:  1106\n",
            "Proportion vs Total sample: 69.125%\n"
          ]
        },
        {
          "output_type": "stream",
          "name": "stderr",
          "text": [
            "/usr/local/lib/python3.7/dist-packages/ipykernel_launcher.py:5: SettingWithCopyWarning: \n",
            "A value is trying to be set on a copy of a slice from a DataFrame.\n",
            "Try using .loc[row_indexer,col_indexer] = value instead\n",
            "\n",
            "See the caveats in the documentation: https://pandas.pydata.org/pandas-docs/stable/user_guide/indexing.html#returning-a-view-versus-a-copy\n",
            "  \"\"\"\n"
          ]
        },
        {
          "output_type": "execute_result",
          "data": {
            "text/html": [
              "<div>\n",
              "<style scoped>\n",
              "    .dataframe tbody tr th:only-of-type {\n",
              "        vertical-align: middle;\n",
              "    }\n",
              "\n",
              "    .dataframe tbody tr th {\n",
              "        vertical-align: top;\n",
              "    }\n",
              "\n",
              "    .dataframe thead th {\n",
              "        text-align: right;\n",
              "    }\n",
              "</style>\n",
              "<table border=\"1\" class=\"dataframe\">\n",
              "  <thead>\n",
              "    <tr style=\"text-align: right;\">\n",
              "      <th></th>\n",
              "      <th>text</th>\n",
              "      <th>label</th>\n",
              "      <th>prediction</th>\n",
              "    </tr>\n",
              "  </thead>\n",
              "  <tbody>\n",
              "    <tr>\n",
              "      <th>0</th>\n",
              "      <td>user damn hey duante</td>\n",
              "      <td>0</td>\n",
              "      <td>0</td>\n",
              "    </tr>\n",
              "    <tr>\n",
              "      <th>2</th>\n",
              "      <td>so jealous of user she is hanging out with the pens players at the bars and i am in warren ohio lamee</td>\n",
              "      <td>0</td>\n",
              "      <td>0</td>\n",
              "    </tr>\n",
              "    <tr>\n",
              "      <th>4</th>\n",
              "      <td>user god why did you post that i loved that movie</td>\n",
              "      <td>0</td>\n",
              "      <td>1</td>\n",
              "    </tr>\n",
              "    <tr>\n",
              "      <th>5</th>\n",
              "      <td>user i know how rude and immature</td>\n",
              "      <td>0</td>\n",
              "      <td>0</td>\n",
              "    </tr>\n",
              "    <tr>\n",
              "      <th>6</th>\n",
              "      <td>trying to sleep but cannot going to be soo tired tomorrow at school i will keep on yawning</td>\n",
              "      <td>0</td>\n",
              "      <td>0</td>\n",
              "    </tr>\n",
              "  </tbody>\n",
              "</table>\n",
              "</div>"
            ],
            "text/plain": [
              "                                                                                                    text  ... prediction\n",
              "0                                                                                   user damn hey duante  ...          0\n",
              "2  so jealous of user she is hanging out with the pens players at the bars and i am in warren ohio lamee  ...          0\n",
              "4                                                      user god why did you post that i loved that movie  ...          1\n",
              "5                                                                      user i know how rude and immature  ...          0\n",
              "6             trying to sleep but cannot going to be soo tired tomorrow at school i will keep on yawning  ...          0\n",
              "\n",
              "[5 rows x 3 columns]"
            ]
          },
          "metadata": {},
          "execution_count": 19
        }
      ]
    },
    {
      "cell_type": "markdown",
      "metadata": {
        "id": "fVVgn1kPvAHz"
      },
      "source": [
        "## <font color=green>P4.3 - Evaluate predictions</font>"
      ]
    },
    {
      "cell_type": "code",
      "metadata": {
        "colab": {
          "base_uri": "https://localhost:8080/",
          "height": 112
        },
        "id": "Um0PziRPZsoU",
        "outputId": "9f6cac27-f2f8-4e59-82a1-fcb1388b1073"
      },
      "source": [
        "y_test = data.label.astype(int)\n",
        "y_pred = data.prediction\n",
        "\n",
        "# auc\n",
        "fpr, tpr, thresholds = roc_curve(y_test, y_pred, pos_label=1)\n",
        "auc_score = auc(fpr, tpr)\n",
        "# accuracy: (tp + tn) / (p + n)\n",
        "acc = accuracy_score(y_test, y_pred)\n",
        "\n",
        "# Append scores/results\n",
        "# Append scores/results\n",
        "model_results = model_results.append({'Model': 'Cleaned tweets',\n",
        "                                      'Predict_time':'{:0.1f}'.format(pred_time),\n",
        "                                      'AUC_Score':'{:0.3f}%'.format(auc_score*100),\n",
        "                                      'Accuracy':'{:0.3f}%'.format(acc*100)},\n",
        "                                     ignore_index=True)\n",
        "model_results"
      ],
      "execution_count": null,
      "outputs": [
        {
          "output_type": "execute_result",
          "data": {
            "text/html": [
              "<div>\n",
              "<style scoped>\n",
              "    .dataframe tbody tr th:only-of-type {\n",
              "        vertical-align: middle;\n",
              "    }\n",
              "\n",
              "    .dataframe tbody tr th {\n",
              "        vertical-align: top;\n",
              "    }\n",
              "\n",
              "    .dataframe thead th {\n",
              "        text-align: right;\n",
              "    }\n",
              "</style>\n",
              "<table border=\"1\" class=\"dataframe\">\n",
              "  <thead>\n",
              "    <tr style=\"text-align: right;\">\n",
              "      <th></th>\n",
              "      <th>Model</th>\n",
              "      <th>Predict_time</th>\n",
              "      <th>AUC_Score</th>\n",
              "      <th>Accuracy</th>\n",
              "    </tr>\n",
              "  </thead>\n",
              "  <tbody>\n",
              "    <tr>\n",
              "      <th>0</th>\n",
              "      <td>Original tweets</td>\n",
              "      <td>186.1</td>\n",
              "      <td>74.349%</td>\n",
              "      <td>74.335%</td>\n",
              "    </tr>\n",
              "    <tr>\n",
              "      <th>1</th>\n",
              "      <td>Cleaned tweets</td>\n",
              "      <td>192.2</td>\n",
              "      <td>75.989%</td>\n",
              "      <td>75.949%</td>\n",
              "    </tr>\n",
              "  </tbody>\n",
              "</table>\n",
              "</div>"
            ],
            "text/plain": [
              "             Model Predict_time AUC_Score Accuracy\n",
              "0  Original tweets        186.1   74.349%  74.335%\n",
              "1   Cleaned tweets        192.2   75.989%  75.949%"
            ]
          },
          "metadata": {},
          "execution_count": 20
        }
      ]
    },
    {
      "cell_type": "code",
      "metadata": {
        "id": "5-fLhIixm0xc"
      },
      "source": [
        "# Save to CSV file\n",
        "model_results.to_csv(src_folder / 'p7_02_model_results.csv', index=False)"
      ],
      "execution_count": null,
      "outputs": []
    },
    {
      "cell_type": "markdown",
      "metadata": {
        "id": "O7YPLyOIv0Ve"
      },
      "source": [
        "## <font color=green>P4.4 - Plot confusion matrix</font>"
      ]
    },
    {
      "cell_type": "code",
      "metadata": {
        "id": "fVm6yh02le0b"
      },
      "source": [
        "# Create confusion matrix table\n",
        "# normalize='all', 'index' or 'columns'\n",
        "cm = pd.crosstab(index=y_test,\n",
        "                 columns=y_pred,\n",
        "                 values=y_test,\n",
        "                 aggfunc=lambda x:len(x),\n",
        "                 normalize='index').mul(100)"
      ],
      "execution_count": null,
      "outputs": []
    },
    {
      "cell_type": "code",
      "metadata": {
        "colab": {
          "base_uri": "https://localhost:8080/",
          "height": 525
        },
        "id": "V9OOHrS0lw50",
        "outputId": "59eb0461-a565-4b3d-81ae-b943f5e40d28"
      },
      "source": [
        "# Create classification report\n",
        "cr = classification_report(y_test, y_pred)\n",
        "print(cr)\n",
        "\n",
        "# Set variables\n",
        "title = 'Confusion matrix - Cleaned tweets'\n",
        "\n",
        "# Plot the figure\n",
        "fig, ax0 = plt.subplots(1, 1, figsize=(5, 5))\n",
        "ax = sns.heatmap(cm, annot=True, fmt='.1f', cbar=False, cmap='Blues')\n",
        "for t in ax.texts: t.set_text(t.get_text() + \" %\")\n",
        "ax.xaxis.tick_top() # x axis on top\n",
        "ax.xaxis.set_label_position('top')\n",
        "plt.ylabel('True labels', fontweight='bold')\n",
        "plt.xlabel('Predicted labels', fontweight='bold')\n",
        "plt.title(title, fontsize=16, fontweight='bold')\n",
        "plt.tight_layout()\n",
        "plt.show()"
      ],
      "execution_count": null,
      "outputs": [
        {
          "output_type": "stream",
          "name": "stdout",
          "text": [
            "              precision    recall  f1-score   support\n",
            "\n",
            "           0       0.78      0.74      0.76       567\n",
            "           1       0.74      0.78      0.76       539\n",
            "\n",
            "    accuracy                           0.76      1106\n",
            "   macro avg       0.76      0.76      0.76      1106\n",
            "weighted avg       0.76      0.76      0.76      1106\n",
            "\n"
          ]
        },
        {
          "output_type": "display_data",
          "data": {
            "image/png": "[encoded data removed]",
            "text/plain": [
              "<Figure size 360x360 with 1 Axes>"
            ]
          },
          "metadata": {
            "needs_background": "light"
          }
        }
      ]
    },
    {
      "cell_type": "markdown",
      "metadata": {
        "id": "lSUPwpkys1xB"
      },
      "source": [
        "# <font color=salmon>PART 5 - DETECT SENTIMENT WITH LEMMATIZED TWEETS</font>"
      ]
    },
    {
      "cell_type": "markdown",
      "metadata": {
        "id": "ptktzQmMrweD"
      },
      "source": [
        "In this part, we will use the **lemmatized tweets**.\n",
        "\n",
        "NLTK library globaly changes plural to singular, but do not change am/was to root verb \"be\".\n",
        "\n",
        "Besides, lemmatized tweets DO NOT contain common stopwords from NLTK tool."
      ]
    },
    {
      "cell_type": "markdown",
      "metadata": {
        "id": "3ibK9SdUavtR"
      },
      "source": [
        "## <font color=green>P5.1 - Process sentiment detection</font>"
      ]
    },
    {
      "cell_type": "code",
      "metadata": {
        "colab": {
          "base_uri": "https://localhost:8080/",
          "height": 206
        },
        "id": "oDo5ukDmQs5S",
        "outputId": "004fd474-3fee-4fa3-949f-65e7ef8374ee"
      },
      "source": [
        "data = pd.DataFrame(columns=['text', 'label', 'prediction'])\n",
        "\n",
        "# Process prediction\n",
        "start = time()\n",
        "for index, row in sample_df.iterrows():\n",
        "    data = data.append({'text': row['text_lm'],\n",
        "                        'label': row['sentiment'],\n",
        "                        'prediction': sentiment_analysis(client, row['text_lm'])},\n",
        "                       ignore_index=True)\n",
        "pred_time = (time()-start)\n",
        "\n",
        "# Display 5 first rows\n",
        "data.head()"
      ],
      "execution_count": null,
      "outputs": [
        {
          "output_type": "execute_result",
          "data": {
            "text/html": [
              "<div>\n",
              "<style scoped>\n",
              "    .dataframe tbody tr th:only-of-type {\n",
              "        vertical-align: middle;\n",
              "    }\n",
              "\n",
              "    .dataframe tbody tr th {\n",
              "        vertical-align: top;\n",
              "    }\n",
              "\n",
              "    .dataframe thead th {\n",
              "        text-align: right;\n",
              "    }\n",
              "</style>\n",
              "<table border=\"1\" class=\"dataframe\">\n",
              "  <thead>\n",
              "    <tr style=\"text-align: right;\">\n",
              "      <th></th>\n",
              "      <th>text</th>\n",
              "      <th>label</th>\n",
              "      <th>prediction</th>\n",
              "    </tr>\n",
              "  </thead>\n",
              "  <tbody>\n",
              "    <tr>\n",
              "      <th>0</th>\n",
              "      <td>user damn hey duante</td>\n",
              "      <td>0</td>\n",
              "      <td>negative</td>\n",
              "    </tr>\n",
              "    <tr>\n",
              "      <th>1</th>\n",
              "      <td>feel sleepy waking early hashtag</td>\n",
              "      <td>0</td>\n",
              "      <td>negative</td>\n",
              "    </tr>\n",
              "    <tr>\n",
              "      <th>2</th>\n",
              "      <td>jealous user hanging pen player bar warren ohio lamee</td>\n",
              "      <td>0</td>\n",
              "      <td>neutral</td>\n",
              "    </tr>\n",
              "    <tr>\n",
              "      <th>3</th>\n",
              "      <td>user kno tomorrow nobody go</td>\n",
              "      <td>0</td>\n",
              "      <td>neutral</td>\n",
              "    </tr>\n",
              "    <tr>\n",
              "      <th>4</th>\n",
              "      <td>user god post loved movie</td>\n",
              "      <td>0</td>\n",
              "      <td>positive</td>\n",
              "    </tr>\n",
              "  </tbody>\n",
              "</table>\n",
              "</div>"
            ],
            "text/plain": [
              "                                                    text label prediction\n",
              "0                                   user damn hey duante     0   negative\n",
              "1                       feel sleepy waking early hashtag     0   negative\n",
              "2  jealous user hanging pen player bar warren ohio lamee     0    neutral\n",
              "3                            user kno tomorrow nobody go     0    neutral\n",
              "4                              user god post loved movie     0   positive"
            ]
          },
          "metadata": {},
          "execution_count": 24
        }
      ]
    },
    {
      "cell_type": "code",
      "metadata": {
        "id": "aMoKD_l0gHyc"
      },
      "source": [
        "# Save to CSV file\n",
        "data.to_csv(src_folder / 'p7_02_api_lemma_tweet.csv', index=False)"
      ],
      "execution_count": null,
      "outputs": []
    },
    {
      "cell_type": "markdown",
      "metadata": {
        "id": "IINP1zllurV8"
      },
      "source": [
        "## <font color=green>P5.2 - Exclude neutral predictions</font>"
      ]
    },
    {
      "cell_type": "code",
      "metadata": {
        "colab": {
          "base_uri": "https://localhost:8080/",
          "height": 365
        },
        "id": "Hi75WACpgRRu",
        "outputId": "c077321a-9440-4f09-fdad-906f3707fe08"
      },
      "source": [
        "# Filter on binary polarity (negative, positive)\n",
        "data = data[data.prediction != 'neutral']\n",
        "\n",
        "# Replace value of predictions columns\n",
        "data['prediction'] = data['prediction'].replace(['negative', 'positive'],[0,1])\n",
        "\n",
        "print('Nb rows: ', len(data))\n",
        "print('Proportion vs Total sample: {}%'.format(len(data)/len(sample_df)*100))\n",
        "\n",
        "# Display 5 first rows\n",
        "data.head()"
      ],
      "execution_count": null,
      "outputs": [
        {
          "output_type": "stream",
          "name": "stdout",
          "text": [
            "Nb rows:  1098\n",
            "Proportion vs Total sample: 68.625%\n"
          ]
        },
        {
          "output_type": "stream",
          "name": "stderr",
          "text": [
            "/usr/local/lib/python3.7/dist-packages/ipykernel_launcher.py:5: SettingWithCopyWarning: \n",
            "A value is trying to be set on a copy of a slice from a DataFrame.\n",
            "Try using .loc[row_indexer,col_indexer] = value instead\n",
            "\n",
            "See the caveats in the documentation: https://pandas.pydata.org/pandas-docs/stable/user_guide/indexing.html#returning-a-view-versus-a-copy\n",
            "  \"\"\"\n"
          ]
        },
        {
          "output_type": "execute_result",
          "data": {
            "text/html": [
              "<div>\n",
              "<style scoped>\n",
              "    .dataframe tbody tr th:only-of-type {\n",
              "        vertical-align: middle;\n",
              "    }\n",
              "\n",
              "    .dataframe tbody tr th {\n",
              "        vertical-align: top;\n",
              "    }\n",
              "\n",
              "    .dataframe thead th {\n",
              "        text-align: right;\n",
              "    }\n",
              "</style>\n",
              "<table border=\"1\" class=\"dataframe\">\n",
              "  <thead>\n",
              "    <tr style=\"text-align: right;\">\n",
              "      <th></th>\n",
              "      <th>text</th>\n",
              "      <th>label</th>\n",
              "      <th>prediction</th>\n",
              "    </tr>\n",
              "  </thead>\n",
              "  <tbody>\n",
              "    <tr>\n",
              "      <th>0</th>\n",
              "      <td>user damn hey duante</td>\n",
              "      <td>0</td>\n",
              "      <td>0</td>\n",
              "    </tr>\n",
              "    <tr>\n",
              "      <th>1</th>\n",
              "      <td>feel sleepy waking early hashtag</td>\n",
              "      <td>0</td>\n",
              "      <td>0</td>\n",
              "    </tr>\n",
              "    <tr>\n",
              "      <th>4</th>\n",
              "      <td>user god post loved movie</td>\n",
              "      <td>0</td>\n",
              "      <td>1</td>\n",
              "    </tr>\n",
              "    <tr>\n",
              "      <th>5</th>\n",
              "      <td>user know rude immature</td>\n",
              "      <td>0</td>\n",
              "      <td>0</td>\n",
              "    </tr>\n",
              "    <tr>\n",
              "      <th>6</th>\n",
              "      <td>trying sleep cannot going soo tired tomorrow school keep yawning</td>\n",
              "      <td>0</td>\n",
              "      <td>0</td>\n",
              "    </tr>\n",
              "  </tbody>\n",
              "</table>\n",
              "</div>"
            ],
            "text/plain": [
              "                                                               text  ... prediction\n",
              "0                                              user damn hey duante  ...          0\n",
              "1                                  feel sleepy waking early hashtag  ...          0\n",
              "4                                         user god post loved movie  ...          1\n",
              "5                                           user know rude immature  ...          0\n",
              "6  trying sleep cannot going soo tired tomorrow school keep yawning  ...          0\n",
              "\n",
              "[5 rows x 3 columns]"
            ]
          },
          "metadata": {},
          "execution_count": 26
        }
      ]
    },
    {
      "cell_type": "markdown",
      "metadata": {
        "id": "UPVDVkNRvHl_"
      },
      "source": [
        "## <font color=green>P5.3 - Evaluate predictions</font>"
      ]
    },
    {
      "cell_type": "code",
      "metadata": {
        "colab": {
          "base_uri": "https://localhost:8080/",
          "height": 143
        },
        "id": "bR_XLb9xgdG0",
        "outputId": "0a731803-1bb2-4707-8d10-897ccb4cad2e"
      },
      "source": [
        "y_test = data.label.astype(int)\n",
        "y_pred = data.prediction\n",
        "\n",
        "# auc\n",
        "fpr, tpr, thresholds = roc_curve(y_test, y_pred, pos_label=1)\n",
        "auc_score = auc(fpr, tpr)\n",
        "# accuracy: (tp + tn) / (tp + tn)\n",
        "acc = accuracy_score(y_test, y_pred)\n",
        "\n",
        "# Append scores/results\n",
        "model_results = model_results.append({'Model': 'Lemmatized tweets',\n",
        "                                      'Predict_time':'{:0.1f}'.format(pred_time),\n",
        "                                      'AUC_Score':'{:0.3f}%'.format(auc_score*100),\n",
        "                                      'Accuracy':'{:0.3f}%'.format(acc*100)},\n",
        "                                     ignore_index=True)\n",
        "model_results"
      ],
      "execution_count": null,
      "outputs": [
        {
          "output_type": "execute_result",
          "data": {
            "text/html": [
              "<div>\n",
              "<style scoped>\n",
              "    .dataframe tbody tr th:only-of-type {\n",
              "        vertical-align: middle;\n",
              "    }\n",
              "\n",
              "    .dataframe tbody tr th {\n",
              "        vertical-align: top;\n",
              "    }\n",
              "\n",
              "    .dataframe thead th {\n",
              "        text-align: right;\n",
              "    }\n",
              "</style>\n",
              "<table border=\"1\" class=\"dataframe\">\n",
              "  <thead>\n",
              "    <tr style=\"text-align: right;\">\n",
              "      <th></th>\n",
              "      <th>Model</th>\n",
              "      <th>Predict_time</th>\n",
              "      <th>AUC_Score</th>\n",
              "      <th>Accuracy</th>\n",
              "    </tr>\n",
              "  </thead>\n",
              "  <tbody>\n",
              "    <tr>\n",
              "      <th>0</th>\n",
              "      <td>Original tweets</td>\n",
              "      <td>186.1</td>\n",
              "      <td>74.349%</td>\n",
              "      <td>74.335%</td>\n",
              "    </tr>\n",
              "    <tr>\n",
              "      <th>1</th>\n",
              "      <td>Cleaned tweets</td>\n",
              "      <td>192.2</td>\n",
              "      <td>75.989%</td>\n",
              "      <td>75.949%</td>\n",
              "    </tr>\n",
              "    <tr>\n",
              "      <th>2</th>\n",
              "      <td>Lemmatized tweets</td>\n",
              "      <td>184.0</td>\n",
              "      <td>75.380%</td>\n",
              "      <td>75.319%</td>\n",
              "    </tr>\n",
              "  </tbody>\n",
              "</table>\n",
              "</div>"
            ],
            "text/plain": [
              "               Model Predict_time AUC_Score Accuracy\n",
              "0    Original tweets        186.1   74.349%  74.335%\n",
              "1     Cleaned tweets        192.2   75.989%  75.949%\n",
              "2  Lemmatized tweets        184.0   75.380%  75.319%"
            ]
          },
          "metadata": {},
          "execution_count": 27
        }
      ]
    },
    {
      "cell_type": "code",
      "metadata": {
        "id": "YK1KqZW4ot-Z"
      },
      "source": [
        "# Save to CSV file\n",
        "model_results.to_csv(src_folder / 'p7_02_model_results.csv', index=False)"
      ],
      "execution_count": null,
      "outputs": []
    },
    {
      "cell_type": "markdown",
      "metadata": {
        "id": "J9uBIN8av6IY"
      },
      "source": [
        "## <font color=green>P5.4 - Plot confusion matrix</font>"
      ]
    },
    {
      "cell_type": "code",
      "metadata": {
        "id": "u1Jgwme4oxV_"
      },
      "source": [
        "# Create confusion matrix table\n",
        "# normalize='all', 'index' or 'columns'\n",
        "cm = pd.crosstab(index=y_test,\n",
        "                 columns=y_pred,\n",
        "                 values=y_test,\n",
        "                 aggfunc=lambda x:len(x),\n",
        "                 normalize='index').mul(100)"
      ],
      "execution_count": null,
      "outputs": []
    },
    {
      "cell_type": "code",
      "metadata": {
        "colab": {
          "base_uri": "https://localhost:8080/",
          "height": 525
        },
        "id": "O24SNmhCo0Yp",
        "outputId": "9d90fefb-3da2-4b2d-d4da-56c316ad3e25"
      },
      "source": [
        "# Create classification report\n",
        "cr = classification_report(y_test, y_pred)\n",
        "print(cr)\n",
        "\n",
        "# Set variables\n",
        "title = 'Confusion matrix - Lemmatized tweets'\n",
        "\n",
        "# Plot the figure\n",
        "fig, ax0 = plt.subplots(1, 1, figsize=(5, 5))\n",
        "ax = sns.heatmap(cm, annot=True, fmt='.1f', cbar=False, cmap='Blues')\n",
        "for t in ax.texts: t.set_text(t.get_text() + \" %\")\n",
        "ax.xaxis.tick_top() # x axis on top\n",
        "ax.xaxis.set_label_position('top')\n",
        "plt.ylabel('True labels', fontweight='bold')\n",
        "plt.xlabel('Predicted labels', fontweight='bold')\n",
        "plt.title(title, fontsize=16, fontweight='bold')\n",
        "plt.tight_layout()\n",
        "plt.show()"
      ],
      "execution_count": null,
      "outputs": [
        {
          "output_type": "stream",
          "name": "stdout",
          "text": [
            "              precision    recall  f1-score   support\n",
            "\n",
            "           0       0.78      0.74      0.76       575\n",
            "           1       0.73      0.77      0.75       523\n",
            "\n",
            "    accuracy                           0.75      1098\n",
            "   macro avg       0.75      0.75      0.75      1098\n",
            "weighted avg       0.75      0.75      0.75      1098\n",
            "\n"
          ]
        },
        {
          "output_type": "display_data",
          "data": {
            "image/png": "[encoded data removed]",
            "text/plain": [
              "<Figure size 360x360 with 1 Axes>"
            ]
          },
          "metadata": {
            "needs_background": "light"
          }
        }
      ]
    },
    {
      "cell_type": "markdown",
      "metadata": {
        "id": "rsyckIYeO28O"
      },
      "source": [
        "# <font color=salmon>SUMMARY AND CONCLUSION</font>"
      ]
    },
    {
      "cell_type": "markdown",
      "metadata": {
        "id": "toKl6Gj_qGnl"
      },
      "source": [
        "Here are the final results!"
      ]
    },
    {
      "cell_type": "code",
      "metadata": {
        "colab": {
          "base_uri": "https://localhost:8080/",
          "height": 143
        },
        "id": "sWYvIuZYjbQ_",
        "outputId": "8dbe1685-dafb-4a57-cb43-f15eed245e22"
      },
      "source": [
        "# Load result\n",
        "results = pd.read_csv(src_folder / 'p7_02_model_results.csv')\n",
        "results"
      ],
      "execution_count": null,
      "outputs": [
        {
          "output_type": "execute_result",
          "data": {
            "text/html": [
              "<div>\n",
              "<style scoped>\n",
              "    .dataframe tbody tr th:only-of-type {\n",
              "        vertical-align: middle;\n",
              "    }\n",
              "\n",
              "    .dataframe tbody tr th {\n",
              "        vertical-align: top;\n",
              "    }\n",
              "\n",
              "    .dataframe thead th {\n",
              "        text-align: right;\n",
              "    }\n",
              "</style>\n",
              "<table border=\"1\" class=\"dataframe\">\n",
              "  <thead>\n",
              "    <tr style=\"text-align: right;\">\n",
              "      <th></th>\n",
              "      <th>Model</th>\n",
              "      <th>Predict_time</th>\n",
              "      <th>AUC_Score</th>\n",
              "      <th>Accuracy</th>\n",
              "    </tr>\n",
              "  </thead>\n",
              "  <tbody>\n",
              "    <tr>\n",
              "      <th>0</th>\n",
              "      <td>Original tweets</td>\n",
              "      <td>186.1</td>\n",
              "      <td>74.349%</td>\n",
              "      <td>74.335%</td>\n",
              "    </tr>\n",
              "    <tr>\n",
              "      <th>1</th>\n",
              "      <td>Cleaned tweets</td>\n",
              "      <td>192.2</td>\n",
              "      <td>75.989%</td>\n",
              "      <td>75.949%</td>\n",
              "    </tr>\n",
              "    <tr>\n",
              "      <th>2</th>\n",
              "      <td>Lemmatized tweets</td>\n",
              "      <td>184.0</td>\n",
              "      <td>75.380%</td>\n",
              "      <td>75.319%</td>\n",
              "    </tr>\n",
              "  </tbody>\n",
              "</table>\n",
              "</div>"
            ],
            "text/plain": [
              "               Model  Predict_time AUC_Score Accuracy\n",
              "0    Original tweets         186.1   74.349%  74.335%\n",
              "1     Cleaned tweets         192.2   75.989%  75.949%\n",
              "2  Lemmatized tweets         184.0   75.380%  75.319%"
            ]
          },
          "metadata": {},
          "execution_count": 31
        }
      ]
    },
    {
      "cell_type": "markdown",
      "metadata": {
        "id": "Kp6RFsn1RQlH"
      },
      "source": [
        "We have applied the Microsoft Azure Sentiment API to our data, with different text states: not preprocessed at all, cleaned, fully preprocessed.\n",
        "\n",
        "We have observed that in Version 3 of the API, the polarity of the sentiment comes with 3 labels: positive, negative, neutral. For consistency purpose, and to be able to compare apple to apple, we have excluded the neutral predictions. This leads a reduced size of sample around 65%. \n",
        "\n",
        "**Our best result comes from the cleaned tweets, with 75,99% AUC and Accuracy 75,95%**.\n",
        "\n",
        "But one question could be raised: could a greater size of samples have led to better result ?"
      ]
    }
  ]
}